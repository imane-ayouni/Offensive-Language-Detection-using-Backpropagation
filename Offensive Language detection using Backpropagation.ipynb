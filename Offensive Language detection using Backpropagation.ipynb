{
 "cells": [
  {
   "cell_type": "markdown",
   "id": "9111fed2",
   "metadata": {},
   "source": [
    "# Offensive Language Detection using Backpropagation"
   ]
  },
  {
   "cell_type": "markdown",
   "id": "7f4119f3",
   "metadata": {},
   "source": [
    "## Topic\n",
    "\n",
    "The dataset for this project is obtained from twitter and contains instances of hate speech, offensive language and neither. Seen as I wanted to try with binary classification I will only use the offensive speech and the non offensive to create two classes for the target. The dataset contains labeled text which I will first process and then train a simple neural network to capture the difference between the two kinds of speechs."
   ]
  },
  {
   "cell_type": "markdown",
   "id": "83428716",
   "metadata": {},
   "source": [
    "## Objective\n",
    "\n",
    "- Build a classifier that can detect offensive speech"
   ]
  },
  {
   "cell_type": "markdown",
   "id": "43051b6c",
   "metadata": {},
   "source": [
    "## Summary\n",
    "\n",
    "- Importing libraries\n",
    "- The dataset\n",
    "- Converting characters to lower case\n",
    "- removing punctuation\n",
    "- Removing digits\n",
    "- Tokenizing sentences\n",
    "- Removing stopwords\n",
    "- Removing frequent words\n",
    "- Stemming\n",
    "- bag of words\n",
    "- Train/Test split\n",
    "- Creating train/test loaders\n",
    "- Building the classifier\n",
    "- Training and inference\n",
    "- Trying out the model\n",
    "- Conclusion\n"
   ]
  },
  {
   "cell_type": "markdown",
   "id": "af020411",
   "metadata": {},
   "source": [
    "### Importing libraries"
   ]
  },
  {
   "cell_type": "code",
   "execution_count": 53,
   "id": "b9e19f2e",
   "metadata": {},
   "outputs": [],
   "source": [
    "import pandas as pd\n",
    "import matplotlib.pyplot as plt\n",
    "import seaborn as sns\n",
    "import tarfile\n",
    "import numpy as np \n",
    "import torch\n",
    "from torch import nn\n",
    "from torch import optim\n",
    "import torch.nn.functional as F\n",
    "from torch.utils.data import Dataset, DataLoader\n",
    "from scipy.sparse import coo_matrix\n",
    "from nltk import word_tokenize\n",
    "from nltk.corpus import stopwords\n",
    "from nltk.tokenize import RegexpTokenizer\n",
    "from nltk.stem import PorterStemmer\n",
    "import string\n",
    "from nltk import FreqDist\n",
    "from nltk.stem import PorterStemmer\n",
    "from sklearn.feature_extraction.text import CountVectorizer\n",
    "from sklearn.model_selection import train_test_split\n",
    "from sklearn.preprocessing import LabelEncoder, OneHotEncoder"
   ]
  },
  {
   "cell_type": "markdown",
   "id": "1a03db17",
   "metadata": {},
   "source": [
    "### The Dataset"
   ]
  },
  {
   "cell_type": "code",
   "execution_count": 54,
   "id": "14d2f551",
   "metadata": {},
   "outputs": [
    {
     "data": {
      "text/html": [
       "<div>\n",
       "<style scoped>\n",
       "    .dataframe tbody tr th:only-of-type {\n",
       "        vertical-align: middle;\n",
       "    }\n",
       "\n",
       "    .dataframe tbody tr th {\n",
       "        vertical-align: top;\n",
       "    }\n",
       "\n",
       "    .dataframe thead th {\n",
       "        text-align: right;\n",
       "    }\n",
       "</style>\n",
       "<table border=\"1\" class=\"dataframe\">\n",
       "  <thead>\n",
       "    <tr style=\"text-align: right;\">\n",
       "      <th></th>\n",
       "      <th>Unnamed: 0</th>\n",
       "      <th>count</th>\n",
       "      <th>hate_speech</th>\n",
       "      <th>offensive_language</th>\n",
       "      <th>neither</th>\n",
       "      <th>class</th>\n",
       "      <th>tweet</th>\n",
       "    </tr>\n",
       "  </thead>\n",
       "  <tbody>\n",
       "    <tr>\n",
       "      <th>0</th>\n",
       "      <td>0</td>\n",
       "      <td>3</td>\n",
       "      <td>0</td>\n",
       "      <td>0</td>\n",
       "      <td>3</td>\n",
       "      <td>2</td>\n",
       "      <td>!!! RT @mayasolovely: As a woman you shouldn't...</td>\n",
       "    </tr>\n",
       "    <tr>\n",
       "      <th>1</th>\n",
       "      <td>1</td>\n",
       "      <td>3</td>\n",
       "      <td>0</td>\n",
       "      <td>3</td>\n",
       "      <td>0</td>\n",
       "      <td>1</td>\n",
       "      <td>!!!!! RT @mleew17: boy dats cold...tyga dwn ba...</td>\n",
       "    </tr>\n",
       "    <tr>\n",
       "      <th>2</th>\n",
       "      <td>2</td>\n",
       "      <td>3</td>\n",
       "      <td>0</td>\n",
       "      <td>3</td>\n",
       "      <td>0</td>\n",
       "      <td>1</td>\n",
       "      <td>!!!!!!! RT @UrKindOfBrand Dawg!!!! RT @80sbaby...</td>\n",
       "    </tr>\n",
       "    <tr>\n",
       "      <th>3</th>\n",
       "      <td>3</td>\n",
       "      <td>3</td>\n",
       "      <td>0</td>\n",
       "      <td>2</td>\n",
       "      <td>1</td>\n",
       "      <td>1</td>\n",
       "      <td>!!!!!!!!! RT @C_G_Anderson: @viva_based she lo...</td>\n",
       "    </tr>\n",
       "    <tr>\n",
       "      <th>4</th>\n",
       "      <td>4</td>\n",
       "      <td>6</td>\n",
       "      <td>0</td>\n",
       "      <td>6</td>\n",
       "      <td>0</td>\n",
       "      <td>1</td>\n",
       "      <td>!!!!!!!!!!!!! RT @ShenikaRoberts: The shit you...</td>\n",
       "    </tr>\n",
       "  </tbody>\n",
       "</table>\n",
       "</div>"
      ],
      "text/plain": [
       "   Unnamed: 0  count  hate_speech  offensive_language  neither  class  \\\n",
       "0           0      3            0                   0        3      2   \n",
       "1           1      3            0                   3        0      1   \n",
       "2           2      3            0                   3        0      1   \n",
       "3           3      3            0                   2        1      1   \n",
       "4           4      6            0                   6        0      1   \n",
       "\n",
       "                                               tweet  \n",
       "0  !!! RT @mayasolovely: As a woman you shouldn't...  \n",
       "1  !!!!! RT @mleew17: boy dats cold...tyga dwn ba...  \n",
       "2  !!!!!!! RT @UrKindOfBrand Dawg!!!! RT @80sbaby...  \n",
       "3  !!!!!!!!! RT @C_G_Anderson: @viva_based she lo...  \n",
       "4  !!!!!!!!!!!!! RT @ShenikaRoberts: The shit you...  "
      ]
     },
     "execution_count": 54,
     "metadata": {},
     "output_type": "execute_result"
    }
   ],
   "source": [
    "df = pd.read_csv(r'C:\\Users\\imane\\Downloads\\archive (10)\\labeled_data.csv', sep =\",\")\n",
    "df.head()"
   ]
  },
  {
   "cell_type": "code",
   "execution_count": 55,
   "id": "ee050c51",
   "metadata": {},
   "outputs": [
    {
     "name": "stdout",
     "output_type": "stream",
     "text": [
      "<class 'pandas.core.frame.DataFrame'>\n",
      "RangeIndex: 24783 entries, 0 to 24782\n",
      "Data columns (total 7 columns):\n",
      " #   Column              Non-Null Count  Dtype \n",
      "---  ------              --------------  ----- \n",
      " 0   Unnamed: 0          24783 non-null  int64 \n",
      " 1   count               24783 non-null  int64 \n",
      " 2   hate_speech         24783 non-null  int64 \n",
      " 3   offensive_language  24783 non-null  int64 \n",
      " 4   neither             24783 non-null  int64 \n",
      " 5   class               24783 non-null  int64 \n",
      " 6   tweet               24783 non-null  object\n",
      "dtypes: int64(6), object(1)\n",
      "memory usage: 1.3+ MB\n"
     ]
    }
   ],
   "source": [
    "df.info()"
   ]
  },
  {
   "cell_type": "code",
   "execution_count": 57,
   "id": "28a79249",
   "metadata": {},
   "outputs": [],
   "source": [
    "df = df.drop(columns=[\"Unnamed: 0\", \"count\", \"hate_speech\",\"offensive_language\",\"neither\"], axis = 1)"
   ]
  },
  {
   "cell_type": "code",
   "execution_count": 58,
   "id": "7a5ffc33",
   "metadata": {},
   "outputs": [
    {
     "data": {
      "text/html": [
       "<div>\n",
       "<style scoped>\n",
       "    .dataframe tbody tr th:only-of-type {\n",
       "        vertical-align: middle;\n",
       "    }\n",
       "\n",
       "    .dataframe tbody tr th {\n",
       "        vertical-align: top;\n",
       "    }\n",
       "\n",
       "    .dataframe thead th {\n",
       "        text-align: right;\n",
       "    }\n",
       "</style>\n",
       "<table border=\"1\" class=\"dataframe\">\n",
       "  <thead>\n",
       "    <tr style=\"text-align: right;\">\n",
       "      <th></th>\n",
       "      <th>class</th>\n",
       "      <th>tweet</th>\n",
       "    </tr>\n",
       "  </thead>\n",
       "  <tbody>\n",
       "    <tr>\n",
       "      <th>0</th>\n",
       "      <td>2</td>\n",
       "      <td>!!! RT @mayasolovely: As a woman you shouldn't...</td>\n",
       "    </tr>\n",
       "    <tr>\n",
       "      <th>1</th>\n",
       "      <td>1</td>\n",
       "      <td>!!!!! RT @mleew17: boy dats cold...tyga dwn ba...</td>\n",
       "    </tr>\n",
       "    <tr>\n",
       "      <th>2</th>\n",
       "      <td>1</td>\n",
       "      <td>!!!!!!! RT @UrKindOfBrand Dawg!!!! RT @80sbaby...</td>\n",
       "    </tr>\n",
       "    <tr>\n",
       "      <th>3</th>\n",
       "      <td>1</td>\n",
       "      <td>!!!!!!!!! RT @C_G_Anderson: @viva_based she lo...</td>\n",
       "    </tr>\n",
       "    <tr>\n",
       "      <th>4</th>\n",
       "      <td>1</td>\n",
       "      <td>!!!!!!!!!!!!! RT @ShenikaRoberts: The shit you...</td>\n",
       "    </tr>\n",
       "  </tbody>\n",
       "</table>\n",
       "</div>"
      ],
      "text/plain": [
       "   class                                              tweet\n",
       "0      2  !!! RT @mayasolovely: As a woman you shouldn't...\n",
       "1      1  !!!!! RT @mleew17: boy dats cold...tyga dwn ba...\n",
       "2      1  !!!!!!! RT @UrKindOfBrand Dawg!!!! RT @80sbaby...\n",
       "3      1  !!!!!!!!! RT @C_G_Anderson: @viva_based she lo...\n",
       "4      1  !!!!!!!!!!!!! RT @ShenikaRoberts: The shit you..."
      ]
     },
     "execution_count": 58,
     "metadata": {},
     "output_type": "execute_result"
    }
   ],
   "source": [
    "df.head()"
   ]
  },
  {
   "cell_type": "code",
   "execution_count": 59,
   "id": "ea9d35a7",
   "metadata": {},
   "outputs": [
    {
     "data": {
      "text/plain": [
       "<Axes: >"
      ]
     },
     "execution_count": 59,
     "metadata": {},
     "output_type": "execute_result"
    },
    {
     "data": {
      "image/png": "[encoded data removed]",
      "text/plain": [
       "<Figure size 640x480 with 1 Axes>"
      ]
     },
     "metadata": {},
     "output_type": "display_data"
    }
   ],
   "source": [
    "df['class'].value_counts().plot(kind='bar')"
   ]
  },
  {
   "cell_type": "code",
   "execution_count": 60,
   "id": "566f2de5",
   "metadata": {},
   "outputs": [],
   "source": [
    "df.drop(df[df['class'] == 0].index, inplace = True)"
   ]
  },
  {
   "cell_type": "code",
   "execution_count": 61,
   "id": "7483de45",
   "metadata": {},
   "outputs": [],
   "source": [
    "df =df.replace(2,0)"
   ]
  },
  {
   "cell_type": "code",
   "execution_count": 62,
   "id": "8845a239",
   "metadata": {},
   "outputs": [
    {
     "data": {
      "text/plain": [
       "1    19190\n",
       "0     4163\n",
       "Name: class, dtype: int64"
      ]
     },
     "execution_count": 62,
     "metadata": {},
     "output_type": "execute_result"
    }
   ],
   "source": [
    "df[\"class\"].value_counts()"
   ]
  },
  {
   "cell_type": "code",
   "execution_count": 63,
   "id": "5370d9b6",
   "metadata": {},
   "outputs": [],
   "source": [
    "one = df[df[\"class\"] == 1]\n",
    "one = one.reset_index(drop=True)"
   ]
  },
  {
   "cell_type": "code",
   "execution_count": 64,
   "id": "7c9a8b94",
   "metadata": {},
   "outputs": [],
   "source": [
    "zero = df[df[\"class\"] == 0]\n",
    "zero = zero.reset_index(drop=True)"
   ]
  },
  {
   "cell_type": "code",
   "execution_count": 65,
   "id": "290abc2e",
   "metadata": {},
   "outputs": [],
   "source": [
    "one = one.iloc[:2000]\n",
    "zero = zero.iloc[:2000]"
   ]
  },
  {
   "cell_type": "code",
   "execution_count": 66,
   "id": "3f26ba52",
   "metadata": {},
   "outputs": [],
   "source": [
    "data = pd.concat([one, zero], axis =0)\n",
    "data = data.sample(frac=1)"
   ]
  },
  {
   "cell_type": "code",
   "execution_count": 67,
   "id": "3e4fca63",
   "metadata": {},
   "outputs": [
    {
     "name": "stdout",
     "output_type": "stream",
     "text": [
      "<class 'pandas.core.frame.DataFrame'>\n",
      "Int64Index: 4000 entries, 650 to 890\n",
      "Data columns (total 2 columns):\n",
      " #   Column  Non-Null Count  Dtype \n",
      "---  ------  --------------  ----- \n",
      " 0   class   4000 non-null   int64 \n",
      " 1   tweet   4000 non-null   object\n",
      "dtypes: int64(1), object(1)\n",
      "memory usage: 93.8+ KB\n"
     ]
    }
   ],
   "source": [
    "data.info()"
   ]
  },
  {
   "cell_type": "code",
   "execution_count": 68,
   "id": "38215fcf",
   "metadata": {},
   "outputs": [],
   "source": [
    "target = data[\"class\"]"
   ]
  },
  {
   "cell_type": "code",
   "execution_count": 69,
   "id": "6e3626a3",
   "metadata": {},
   "outputs": [],
   "source": [
    "data = data.drop(columns=\"class\", axis =1)"
   ]
  },
  {
   "cell_type": "code",
   "execution_count": 70,
   "id": "7ad26ad4",
   "metadata": {},
   "outputs": [
    {
     "data": {
      "text/plain": [
       "650     0\n",
       "468     0\n",
       "1870    0\n",
       "810     1\n",
       "1941    1\n",
       "Name: class, dtype: int64"
      ]
     },
     "execution_count": 70,
     "metadata": {},
     "output_type": "execute_result"
    }
   ],
   "source": [
    "target.head()"
   ]
  },
  {
   "cell_type": "markdown",
   "id": "4bdcc18e",
   "metadata": {},
   "source": [
    "The dataset contains instance of hate speech labeled as 0, offensive language as 1 and neither is 2. Seen as I wanted to try binary classification, I only kept offensive language and neither and changed the label of neither to 0 instead of 1. Next, since the dataset is huge I decided to keep only 2000 instances per class because I will be using bag of words later and if I have many instances I will end up with a huge neural net that'll take too long to train."
   ]
  },
  {
   "cell_type": "markdown",
   "id": "80aade7c",
   "metadata": {},
   "source": [
    "### Converting characters to lower case"
   ]
  },
  {
   "cell_type": "code",
   "execution_count": 71,
   "id": "af126817",
   "metadata": {},
   "outputs": [
    {
     "data": {
      "text/html": [
       "<div>\n",
       "<style scoped>\n",
       "    .dataframe tbody tr th:only-of-type {\n",
       "        vertical-align: middle;\n",
       "    }\n",
       "\n",
       "    .dataframe tbody tr th {\n",
       "        vertical-align: top;\n",
       "    }\n",
       "\n",
       "    .dataframe thead th {\n",
       "        text-align: right;\n",
       "    }\n",
       "</style>\n",
       "<table border=\"1\" class=\"dataframe\">\n",
       "  <thead>\n",
       "    <tr style=\"text-align: right;\">\n",
       "      <th></th>\n",
       "      <th>tweet</th>\n",
       "    </tr>\n",
       "  </thead>\n",
       "  <tbody>\n",
       "    <tr>\n",
       "      <th>650</th>\n",
       "      <td>@machell1123 i hope you get better soon! colds...</td>\n",
       "    </tr>\n",
       "    <tr>\n",
       "      <th>468</th>\n",
       "      <td>@colemcdowell2 waco is ghetto hahaha. wait til...</td>\n",
       "    </tr>\n",
       "    <tr>\n",
       "      <th>1870</th>\n",
       "      <td>i used to chug vodka and orange juice. i also ...</td>\n",
       "    </tr>\n",
       "    <tr>\n",
       "      <th>810</th>\n",
       "      <td>&amp;#128563;&amp;#128563;&amp;#128563; rt @winterlove___:...</td>\n",
       "    </tr>\n",
       "    <tr>\n",
       "      <th>1941</th>\n",
       "      <td>@andreaa_olvera smd bitch</td>\n",
       "    </tr>\n",
       "  </tbody>\n",
       "</table>\n",
       "</div>"
      ],
      "text/plain": [
       "                                                  tweet\n",
       "650   @machell1123 i hope you get better soon! colds...\n",
       "468   @colemcdowell2 waco is ghetto hahaha. wait til...\n",
       "1870  i used to chug vodka and orange juice. i also ...\n",
       "810   &#128563;&#128563;&#128563; rt @winterlove___:...\n",
       "1941                          @andreaa_olvera smd bitch"
      ]
     },
     "execution_count": 71,
     "metadata": {},
     "output_type": "execute_result"
    }
   ],
   "source": [
    "data[\"tweet\"] = data[\"tweet\"].str.lower()\n",
    "data.head()"
   ]
  },
  {
   "cell_type": "markdown",
   "id": "0eeeb23e",
   "metadata": {},
   "source": [
    "### Removing punctuation"
   ]
  },
  {
   "cell_type": "code",
   "execution_count": 72,
   "id": "111a7eb1",
   "metadata": {},
   "outputs": [],
   "source": [
    "def remove_punct(text):\n",
    "    text = text.translate(str.maketrans(\" \",\" \", string.punctuation ))\n",
    "    return text"
   ]
  },
  {
   "cell_type": "code",
   "execution_count": 73,
   "id": "5eb7b6fc",
   "metadata": {},
   "outputs": [
    {
     "data": {
      "text/html": [
       "<div>\n",
       "<style scoped>\n",
       "    .dataframe tbody tr th:only-of-type {\n",
       "        vertical-align: middle;\n",
       "    }\n",
       "\n",
       "    .dataframe tbody tr th {\n",
       "        vertical-align: top;\n",
       "    }\n",
       "\n",
       "    .dataframe thead th {\n",
       "        text-align: right;\n",
       "    }\n",
       "</style>\n",
       "<table border=\"1\" class=\"dataframe\">\n",
       "  <thead>\n",
       "    <tr style=\"text-align: right;\">\n",
       "      <th></th>\n",
       "      <th>tweet</th>\n",
       "    </tr>\n",
       "  </thead>\n",
       "  <tbody>\n",
       "    <tr>\n",
       "      <th>650</th>\n",
       "      <td>machell1123 i hope you get better soon colds a...</td>\n",
       "    </tr>\n",
       "    <tr>\n",
       "      <th>468</th>\n",
       "      <td>colemcdowell2 waco is ghetto hahaha wait til w...</td>\n",
       "    </tr>\n",
       "    <tr>\n",
       "      <th>1870</th>\n",
       "      <td>i used to chug vodka and orange juice i also u...</td>\n",
       "    </tr>\n",
       "    <tr>\n",
       "      <th>810</th>\n",
       "      <td>128563128563128563 rt winterlove 8220thisisyou...</td>\n",
       "    </tr>\n",
       "    <tr>\n",
       "      <th>1941</th>\n",
       "      <td>andreaaolvera smd bitch</td>\n",
       "    </tr>\n",
       "  </tbody>\n",
       "</table>\n",
       "</div>"
      ],
      "text/plain": [
       "                                                  tweet\n",
       "650   machell1123 i hope you get better soon colds a...\n",
       "468   colemcdowell2 waco is ghetto hahaha wait til w...\n",
       "1870  i used to chug vodka and orange juice i also u...\n",
       "810   128563128563128563 rt winterlove 8220thisisyou...\n",
       "1941                            andreaaolvera smd bitch"
      ]
     },
     "execution_count": 73,
     "metadata": {},
     "output_type": "execute_result"
    }
   ],
   "source": [
    "data[\"tweet\"] = data[\"tweet\"].apply(remove_punct)\n",
    "data.head()"
   ]
  },
  {
   "cell_type": "markdown",
   "id": "1de5ac53",
   "metadata": {},
   "source": [
    "### Removing digits"
   ]
  },
  {
   "cell_type": "code",
   "execution_count": 74,
   "id": "7aae62dd",
   "metadata": {},
   "outputs": [],
   "source": [
    "def remove_digits(text):\n",
    "    exclude = text\n",
    "    return \"\".join(token for token in text if not token.isdigit())"
   ]
  },
  {
   "cell_type": "code",
   "execution_count": 75,
   "id": "7baf092b",
   "metadata": {},
   "outputs": [
    {
     "data": {
      "text/html": [
       "<div>\n",
       "<style scoped>\n",
       "    .dataframe tbody tr th:only-of-type {\n",
       "        vertical-align: middle;\n",
       "    }\n",
       "\n",
       "    .dataframe tbody tr th {\n",
       "        vertical-align: top;\n",
       "    }\n",
       "\n",
       "    .dataframe thead th {\n",
       "        text-align: right;\n",
       "    }\n",
       "</style>\n",
       "<table border=\"1\" class=\"dataframe\">\n",
       "  <thead>\n",
       "    <tr style=\"text-align: right;\">\n",
       "      <th></th>\n",
       "      <th>tweet</th>\n",
       "    </tr>\n",
       "  </thead>\n",
       "  <tbody>\n",
       "    <tr>\n",
       "      <th>650</th>\n",
       "      <td>machell i hope you get better soon colds are f...</td>\n",
       "    </tr>\n",
       "    <tr>\n",
       "      <th>468</th>\n",
       "      <td>colemcdowell waco is ghetto hahaha wait til we...</td>\n",
       "    </tr>\n",
       "    <tr>\n",
       "      <th>1870</th>\n",
       "      <td>i used to chug vodka and orange juice i also u...</td>\n",
       "    </tr>\n",
       "    <tr>\n",
       "      <th>810</th>\n",
       "      <td>rt winterlove thisisyoungdj every girl got a ...</td>\n",
       "    </tr>\n",
       "    <tr>\n",
       "      <th>1941</th>\n",
       "      <td>andreaaolvera smd bitch</td>\n",
       "    </tr>\n",
       "  </tbody>\n",
       "</table>\n",
       "</div>"
      ],
      "text/plain": [
       "                                                  tweet\n",
       "650   machell i hope you get better soon colds are f...\n",
       "468   colemcdowell waco is ghetto hahaha wait til we...\n",
       "1870  i used to chug vodka and orange juice i also u...\n",
       "810    rt winterlove thisisyoungdj every girl got a ...\n",
       "1941                            andreaaolvera smd bitch"
      ]
     },
     "execution_count": 75,
     "metadata": {},
     "output_type": "execute_result"
    }
   ],
   "source": [
    "data[\"tweet\"] = data[\"tweet\"].apply(remove_digits)\n",
    "data.head()"
   ]
  },
  {
   "cell_type": "markdown",
   "id": "c02537cf",
   "metadata": {},
   "source": [
    "### Tokenizing sentences"
   ]
  },
  {
   "cell_type": "code",
   "execution_count": 76,
   "id": "84709159",
   "metadata": {},
   "outputs": [
    {
     "data": {
      "text/html": [
       "<div>\n",
       "<style scoped>\n",
       "    .dataframe tbody tr th:only-of-type {\n",
       "        vertical-align: middle;\n",
       "    }\n",
       "\n",
       "    .dataframe tbody tr th {\n",
       "        vertical-align: top;\n",
       "    }\n",
       "\n",
       "    .dataframe thead th {\n",
       "        text-align: right;\n",
       "    }\n",
       "</style>\n",
       "<table border=\"1\" class=\"dataframe\">\n",
       "  <thead>\n",
       "    <tr style=\"text-align: right;\">\n",
       "      <th></th>\n",
       "      <th>tweet</th>\n",
       "    </tr>\n",
       "  </thead>\n",
       "  <tbody>\n",
       "    <tr>\n",
       "      <th>650</th>\n",
       "      <td>[machell, i, hope, you, get, better, soon, col...</td>\n",
       "    </tr>\n",
       "    <tr>\n",
       "      <th>468</th>\n",
       "      <td>[colemcdowell, waco, is, ghetto, hahaha, wait,...</td>\n",
       "    </tr>\n",
       "    <tr>\n",
       "      <th>1870</th>\n",
       "      <td>[i, used, to, chug, vodka, and, orange, juice,...</td>\n",
       "    </tr>\n",
       "    <tr>\n",
       "      <th>810</th>\n",
       "      <td>[rt, winterlove, thisisyoungdj, every, girl, g...</td>\n",
       "    </tr>\n",
       "    <tr>\n",
       "      <th>1941</th>\n",
       "      <td>[andreaaolvera, smd, bitch]</td>\n",
       "    </tr>\n",
       "  </tbody>\n",
       "</table>\n",
       "</div>"
      ],
      "text/plain": [
       "                                                  tweet\n",
       "650   [machell, i, hope, you, get, better, soon, col...\n",
       "468   [colemcdowell, waco, is, ghetto, hahaha, wait,...\n",
       "1870  [i, used, to, chug, vodka, and, orange, juice,...\n",
       "810   [rt, winterlove, thisisyoungdj, every, girl, g...\n",
       "1941                        [andreaaolvera, smd, bitch]"
      ]
     },
     "execution_count": 76,
     "metadata": {},
     "output_type": "execute_result"
    }
   ],
   "source": [
    "data[\"tweet\"] = data[\"tweet\"].apply(lambda X: word_tokenize(X))\n",
    "data.head()"
   ]
  },
  {
   "cell_type": "markdown",
   "id": "5b5f0fd4",
   "metadata": {},
   "source": [
    "### Removing stopwords"
   ]
  },
  {
   "cell_type": "code",
   "execution_count": 77,
   "id": "e0735afc",
   "metadata": {},
   "outputs": [],
   "source": [
    "stopwords = stopwords.words(\"english\")"
   ]
  },
  {
   "cell_type": "code",
   "execution_count": 78,
   "id": "9b81c284",
   "metadata": {},
   "outputs": [],
   "source": [
    "def remove_stopwords(text):\n",
    "    results = []\n",
    "    for token in text:\n",
    "        if token not in stopwords:\n",
    "            results.append(token)\n",
    "    return results"
   ]
  },
  {
   "cell_type": "code",
   "execution_count": 79,
   "id": "77be960d",
   "metadata": {},
   "outputs": [
    {
     "data": {
      "text/html": [
       "<div>\n",
       "<style scoped>\n",
       "    .dataframe tbody tr th:only-of-type {\n",
       "        vertical-align: middle;\n",
       "    }\n",
       "\n",
       "    .dataframe tbody tr th {\n",
       "        vertical-align: top;\n",
       "    }\n",
       "\n",
       "    .dataframe thead th {\n",
       "        text-align: right;\n",
       "    }\n",
       "</style>\n",
       "<table border=\"1\" class=\"dataframe\">\n",
       "  <thead>\n",
       "    <tr style=\"text-align: right;\">\n",
       "      <th></th>\n",
       "      <th>tweet</th>\n",
       "    </tr>\n",
       "  </thead>\n",
       "  <tbody>\n",
       "    <tr>\n",
       "      <th>650</th>\n",
       "      <td>[machell, hope, get, better, soon, colds, birds]</td>\n",
       "    </tr>\n",
       "    <tr>\n",
       "      <th>468</th>\n",
       "      <td>[colemcdowell, waco, ghetto, hahaha, wait, til...</td>\n",
       "    </tr>\n",
       "    <tr>\n",
       "      <th>1870</th>\n",
       "      <td>[used, chug, vodka, orange, juice, also, used,...</td>\n",
       "    </tr>\n",
       "    <tr>\n",
       "      <th>810</th>\n",
       "      <td>[rt, winterlove, thisisyoungdj, every, girl, g...</td>\n",
       "    </tr>\n",
       "    <tr>\n",
       "      <th>1941</th>\n",
       "      <td>[andreaaolvera, smd, bitch]</td>\n",
       "    </tr>\n",
       "  </tbody>\n",
       "</table>\n",
       "</div>"
      ],
      "text/plain": [
       "                                                  tweet\n",
       "650    [machell, hope, get, better, soon, colds, birds]\n",
       "468   [colemcdowell, waco, ghetto, hahaha, wait, til...\n",
       "1870  [used, chug, vodka, orange, juice, also, used,...\n",
       "810   [rt, winterlove, thisisyoungdj, every, girl, g...\n",
       "1941                        [andreaaolvera, smd, bitch]"
      ]
     },
     "execution_count": 79,
     "metadata": {},
     "output_type": "execute_result"
    }
   ],
   "source": [
    "data[\"tweet\"] = data[\"tweet\"].apply(remove_stopwords)\n",
    "data.head()"
   ]
  },
  {
   "cell_type": "markdown",
   "id": "ba520d87",
   "metadata": {},
   "source": [
    "### Removing frequent words"
   ]
  },
  {
   "cell_type": "code",
   "execution_count": 80,
   "id": "4f5c8b0d",
   "metadata": {},
   "outputs": [],
   "source": [
    "def frequent_words(df):\n",
    "    list = []\n",
    "    for text in df.values:\n",
    "        list += text[0]\n",
    "    frequent = FreqDist(list)\n",
    "    return frequent.most_common(10)\n"
   ]
  },
  {
   "cell_type": "code",
   "execution_count": 81,
   "id": "284f49cc",
   "metadata": {},
   "outputs": [
    {
     "data": {
      "text/plain": [
       "[('bitch', 769),\n",
       " ('like', 401),\n",
       " ('trash', 343),\n",
       " ('im', 328),\n",
       " ('hoes', 278),\n",
       " ('pussy', 274),\n",
       " ('bitches', 270),\n",
       " ('dont', 262),\n",
       " ('got', 243),\n",
       " ('get', 212)]"
      ]
     },
     "execution_count": 81,
     "metadata": {},
     "output_type": "execute_result"
    }
   ],
   "source": [
    "frequent_words(data)"
   ]
  },
  {
   "cell_type": "code",
   "execution_count": 82,
   "id": "e0180578",
   "metadata": {},
   "outputs": [],
   "source": [
    "frequent = frequent_words(data)\n",
    "lst = []\n",
    "for a, b in frequent:\n",
    "    lst.append(a)"
   ]
  },
  {
   "cell_type": "code",
   "execution_count": 83,
   "id": "3ebcebe2",
   "metadata": {},
   "outputs": [],
   "source": [
    "def remove_freq(text):\n",
    "    result = []\n",
    "    for item in text:\n",
    "        if item not in lst:\n",
    "            result.append(item)\n",
    "    return result"
   ]
  },
  {
   "cell_type": "code",
   "execution_count": 84,
   "id": "10aa6097",
   "metadata": {},
   "outputs": [
    {
     "data": {
      "text/html": [
       "<div>\n",
       "<style scoped>\n",
       "    .dataframe tbody tr th:only-of-type {\n",
       "        vertical-align: middle;\n",
       "    }\n",
       "\n",
       "    .dataframe tbody tr th {\n",
       "        vertical-align: top;\n",
       "    }\n",
       "\n",
       "    .dataframe thead th {\n",
       "        text-align: right;\n",
       "    }\n",
       "</style>\n",
       "<table border=\"1\" class=\"dataframe\">\n",
       "  <thead>\n",
       "    <tr style=\"text-align: right;\">\n",
       "      <th></th>\n",
       "      <th>tweet</th>\n",
       "    </tr>\n",
       "  </thead>\n",
       "  <tbody>\n",
       "    <tr>\n",
       "      <th>650</th>\n",
       "      <td>[machell, hope, better, soon, colds, birds]</td>\n",
       "    </tr>\n",
       "    <tr>\n",
       "      <th>468</th>\n",
       "      <td>[colemcdowell, waco, ghetto, hahaha, wait, til...</td>\n",
       "    </tr>\n",
       "    <tr>\n",
       "      <th>1870</th>\n",
       "      <td>[used, chug, vodka, orange, juice, also, used,...</td>\n",
       "    </tr>\n",
       "    <tr>\n",
       "      <th>810</th>\n",
       "      <td>[rt, winterlove, thisisyoungdj, every, girl, w...</td>\n",
       "    </tr>\n",
       "    <tr>\n",
       "      <th>1941</th>\n",
       "      <td>[andreaaolvera, smd]</td>\n",
       "    </tr>\n",
       "  </tbody>\n",
       "</table>\n",
       "</div>"
      ],
      "text/plain": [
       "                                                  tweet\n",
       "650         [machell, hope, better, soon, colds, birds]\n",
       "468   [colemcdowell, waco, ghetto, hahaha, wait, til...\n",
       "1870  [used, chug, vodka, orange, juice, also, used,...\n",
       "810   [rt, winterlove, thisisyoungdj, every, girl, w...\n",
       "1941                               [andreaaolvera, smd]"
      ]
     },
     "execution_count": 84,
     "metadata": {},
     "output_type": "execute_result"
    }
   ],
   "source": [
    "data[\"tweet\"] = data[\"tweet\"].apply(remove_freq)\n",
    "data.head()"
   ]
  },
  {
   "cell_type": "markdown",
   "id": "c599b05d",
   "metadata": {},
   "source": [
    "### Stemming"
   ]
  },
  {
   "cell_type": "code",
   "execution_count": 85,
   "id": "205bd033",
   "metadata": {},
   "outputs": [],
   "source": [
    "def stem(text):\n",
    "    stemmer = PorterStemmer()\n",
    "    results = []\n",
    "    for word in text:\n",
    "        results.append(stemmer.stem(word))\n",
    "    return results"
   ]
  },
  {
   "cell_type": "code",
   "execution_count": 86,
   "id": "0aab104f",
   "metadata": {},
   "outputs": [
    {
     "data": {
      "text/html": [
       "<div>\n",
       "<style scoped>\n",
       "    .dataframe tbody tr th:only-of-type {\n",
       "        vertical-align: middle;\n",
       "    }\n",
       "\n",
       "    .dataframe tbody tr th {\n",
       "        vertical-align: top;\n",
       "    }\n",
       "\n",
       "    .dataframe thead th {\n",
       "        text-align: right;\n",
       "    }\n",
       "</style>\n",
       "<table border=\"1\" class=\"dataframe\">\n",
       "  <thead>\n",
       "    <tr style=\"text-align: right;\">\n",
       "      <th></th>\n",
       "      <th>tweet</th>\n",
       "    </tr>\n",
       "  </thead>\n",
       "  <tbody>\n",
       "    <tr>\n",
       "      <th>650</th>\n",
       "      <td>[machel, hope, better, soon, cold, bird]</td>\n",
       "    </tr>\n",
       "    <tr>\n",
       "      <th>468</th>\n",
       "      <td>[colemcdowel, waco, ghetto, hahaha, wait, til,...</td>\n",
       "    </tr>\n",
       "    <tr>\n",
       "      <th>1870</th>\n",
       "      <td>[use, chug, vodka, orang, juic, also, use, chu...</td>\n",
       "    </tr>\n",
       "    <tr>\n",
       "      <th>810</th>\n",
       "      <td>[rt, winterlov, thisisyoungdj, everi, girl, wc...</td>\n",
       "    </tr>\n",
       "    <tr>\n",
       "      <th>1941</th>\n",
       "      <td>[andreaaolvera, smd]</td>\n",
       "    </tr>\n",
       "  </tbody>\n",
       "</table>\n",
       "</div>"
      ],
      "text/plain": [
       "                                                  tweet\n",
       "650            [machel, hope, better, soon, cold, bird]\n",
       "468   [colemcdowel, waco, ghetto, hahaha, wait, til,...\n",
       "1870  [use, chug, vodka, orang, juic, also, use, chu...\n",
       "810   [rt, winterlov, thisisyoungdj, everi, girl, wc...\n",
       "1941                               [andreaaolvera, smd]"
      ]
     },
     "execution_count": 86,
     "metadata": {},
     "output_type": "execute_result"
    }
   ],
   "source": [
    "data[\"tweet\"] = data[\"tweet\"].apply(stem)\n",
    "data.head()"
   ]
  },
  {
   "cell_type": "markdown",
   "id": "e9a42103",
   "metadata": {},
   "source": [
    "### Bag of words"
   ]
  },
  {
   "cell_type": "code",
   "execution_count": 87,
   "id": "d05382a1",
   "metadata": {},
   "outputs": [],
   "source": [
    "vec = CountVectorizer()"
   ]
  },
  {
   "cell_type": "code",
   "execution_count": 88,
   "id": "eaf1025e",
   "metadata": {},
   "outputs": [
    {
     "data": {
      "text/html": [
       "<style>#sk-container-id-2 {color: black;background-color: white;}#sk-container-id-2 pre{padding: 0;}#sk-container-id-2 div.sk-toggleable {background-color: white;}#sk-container-id-2 label.sk-toggleable__label {cursor: pointer;display: block;width: 100%;margin-bottom: 0;padding: 0.3em;box-sizing: border-box;text-align: center;}#sk-container-id-2 label.sk-toggleable__label-arrow:before {content: \"▸\";float: left;margin-right: 0.25em;color: #696969;}#sk-container-id-2 label.sk-toggleable__label-arrow:hover:before {color: black;}#sk-container-id-2 div.sk-estimator:hover label.sk-toggleable__label-arrow:before {color: black;}#sk-container-id-2 div.sk-toggleable__content {max-height: 0;max-width: 0;overflow: hidden;text-align: left;background-color: #f0f8ff;}#sk-container-id-2 div.sk-toggleable__content pre {margin: 0.2em;color: black;border-radius: 0.25em;background-color: #f0f8ff;}#sk-container-id-2 input.sk-toggleable__control:checked~div.sk-toggleable__content {max-height: 200px;max-width: 100%;overflow: auto;}#sk-container-id-2 input.sk-toggleable__control:checked~label.sk-toggleable__label-arrow:before {content: \"▾\";}#sk-container-id-2 div.sk-estimator input.sk-toggleable__control:checked~label.sk-toggleable__label {background-color: #d4ebff;}#sk-container-id-2 div.sk-label input.sk-toggleable__control:checked~label.sk-toggleable__label {background-color: #d4ebff;}#sk-container-id-2 input.sk-hidden--visually {border: 0;clip: rect(1px 1px 1px 1px);clip: rect(1px, 1px, 1px, 1px);height: 1px;margin: -1px;overflow: hidden;padding: 0;position: absolute;width: 1px;}#sk-container-id-2 div.sk-estimator {font-family: monospace;background-color: #f0f8ff;border: 1px dotted black;border-radius: 0.25em;box-sizing: border-box;margin-bottom: 0.5em;}#sk-container-id-2 div.sk-estimator:hover {background-color: #d4ebff;}#sk-container-id-2 div.sk-parallel-item::after {content: \"\";width: 100%;border-bottom: 1px solid gray;flex-grow: 1;}#sk-container-id-2 div.sk-label:hover label.sk-toggleable__label {background-color: #d4ebff;}#sk-container-id-2 div.sk-serial::before {content: \"\";position: absolute;border-left: 1px solid gray;box-sizing: border-box;top: 0;bottom: 0;left: 50%;z-index: 0;}#sk-container-id-2 div.sk-serial {display: flex;flex-direction: column;align-items: center;background-color: white;padding-right: 0.2em;padding-left: 0.2em;position: relative;}#sk-container-id-2 div.sk-item {position: relative;z-index: 1;}#sk-container-id-2 div.sk-parallel {display: flex;align-items: stretch;justify-content: center;background-color: white;position: relative;}#sk-container-id-2 div.sk-item::before, #sk-container-id-2 div.sk-parallel-item::before {content: \"\";position: absolute;border-left: 1px solid gray;box-sizing: border-box;top: 0;bottom: 0;left: 50%;z-index: -1;}#sk-container-id-2 div.sk-parallel-item {display: flex;flex-direction: column;z-index: 1;position: relative;background-color: white;}#sk-container-id-2 div.sk-parallel-item:first-child::after {align-self: flex-end;width: 50%;}#sk-container-id-2 div.sk-parallel-item:last-child::after {align-self: flex-start;width: 50%;}#sk-container-id-2 div.sk-parallel-item:only-child::after {width: 0;}#sk-container-id-2 div.sk-dashed-wrapped {border: 1px dashed gray;margin: 0 0.4em 0.5em 0.4em;box-sizing: border-box;padding-bottom: 0.4em;background-color: white;}#sk-container-id-2 div.sk-label label {font-family: monospace;font-weight: bold;display: inline-block;line-height: 1.2em;}#sk-container-id-2 div.sk-label-container {text-align: center;}#sk-container-id-2 div.sk-container {/* jupyter's `normalize.less` sets `[hidden] { display: none; }` but bootstrap.min.css set `[hidden] { display: none !important; }` so we also need the `!important` here to be able to override the default hidden behavior on the sphinx rendered scikit-learn.org. See: https://github.com/scikit-learn/scikit-learn/issues/21755 */display: inline-block !important;position: relative;}#sk-container-id-2 div.sk-text-repr-fallback {display: none;}</style><div id=\"sk-container-id-2\" class=\"sk-top-container\"><div class=\"sk-text-repr-fallback\"><pre>CountVectorizer()</pre><b>In a Jupyter environment, please rerun this cell to show the HTML representation or trust the notebook. <br />On GitHub, the HTML representation is unable to render, please try loading this page with nbviewer.org.</b></div><div class=\"sk-container\" hidden><div class=\"sk-item\"><div class=\"sk-estimator sk-toggleable\"><input class=\"sk-toggleable__control sk-hidden--visually\" id=\"sk-estimator-id-2\" type=\"checkbox\" checked><label for=\"sk-estimator-id-2\" class=\"sk-toggleable__label sk-toggleable__label-arrow\">CountVectorizer</label><div class=\"sk-toggleable__content\"><pre>CountVectorizer()</pre></div></div></div></div></div>"
      ],
      "text/plain": [
       "CountVectorizer()"
      ]
     },
     "execution_count": 88,
     "metadata": {},
     "output_type": "execute_result"
    }
   ],
   "source": [
    "text = data[\"tweet\"].map(' '.join)\n",
    "vec.fit(text)"
   ]
  },
  {
   "cell_type": "code",
   "execution_count": 89,
   "id": "d5aa058d",
   "metadata": {},
   "outputs": [],
   "source": [
    "converted = vec.transform(text)"
   ]
  },
  {
   "cell_type": "code",
   "execution_count": 90,
   "id": "dd9a5690",
   "metadata": {},
   "outputs": [
    {
     "data": {
      "text/plain": [
       "(4000, 10370)"
      ]
     },
     "execution_count": 90,
     "metadata": {},
     "output_type": "execute_result"
    }
   ],
   "source": [
    "converted.shape"
   ]
  },
  {
   "cell_type": "markdown",
   "id": "38e00c78",
   "metadata": {},
   "source": [
    "After processing the textual data, I applied the bag of words to obtain vectors of size 10370 which means that my network will have that many nodes at its input layer. Next I will move to splitting the train and test sets."
   ]
  },
  {
   "cell_type": "markdown",
   "id": "8dcef895",
   "metadata": {},
   "source": [
    "### Splitting the training and testing data"
   ]
  },
  {
   "cell_type": "code",
   "execution_count": 91,
   "id": "0857be67",
   "metadata": {},
   "outputs": [],
   "source": [
    "X_train, X_test, y_train ,y_test = train_test_split(converted, target, random_state = 42, test_size = 0.25, shuffle = True)"
   ]
  },
  {
   "cell_type": "code",
   "execution_count": 92,
   "id": "5f79855e",
   "metadata": {},
   "outputs": [],
   "source": [
    "y_train = y_train.to_numpy()\n",
    "y_test = y_test.to_numpy()"
   ]
  },
  {
   "cell_type": "code",
   "execution_count": 93,
   "id": "3a041033",
   "metadata": {},
   "outputs": [],
   "source": [
    "coo_t = coo_matrix(X_train, dtype= \"float32\")"
   ]
  },
  {
   "cell_type": "code",
   "execution_count": 94,
   "id": "d01c5f1d",
   "metadata": {},
   "outputs": [],
   "source": [
    "values = coo_t.data\n",
    "indices = np.vstack((coo_t.row, coo_t.col))\n",
    "\n",
    "i = torch.LongTensor(indices)\n",
    "v = torch.FloatTensor(values)\n",
    "shape = coo_t.shape\n",
    "\n",
    "X = torch.sparse.FloatTensor(i, v, torch.Size(shape)).to_dense()"
   ]
  },
  {
   "cell_type": "code",
   "execution_count": 95,
   "id": "464070de",
   "metadata": {},
   "outputs": [],
   "source": [
    "coo_v = coo_matrix(X_test, dtype= \"float32\")\n",
    "\n",
    "values = coo_v.data\n",
    "indices = np.vstack((coo_v.row, coo_v.col))\n",
    "\n",
    "i = torch.LongTensor(indices)\n",
    "v = torch.FloatTensor(values)\n",
    "shape = coo_v.shape\n",
    "\n",
    "Y = torch.sparse.FloatTensor(i, v, torch.Size(shape)).to_dense()"
   ]
  },
  {
   "cell_type": "markdown",
   "id": "75701998",
   "metadata": {},
   "source": [
    "### Creating train/test loaders"
   ]
  },
  {
   "cell_type": "code",
   "execution_count": 96,
   "id": "b43e8683",
   "metadata": {},
   "outputs": [],
   "source": [
    "class Train_loader(Dataset):\n",
    "    def __init__(self):\n",
    "        self.X = X\n",
    "        self.Y = torch.tensor(y_train, dtype = torch.float32)\n",
    "        self.len = self.X.shape[0]\n",
    "    def __getitem__(self, index):\n",
    "        return self.X[index], self.Y[index]\n",
    "    def __len__(self):\n",
    "        return self.len"
   ]
  },
  {
   "cell_type": "code",
   "execution_count": 97,
   "id": "b59a417f",
   "metadata": {},
   "outputs": [],
   "source": [
    "class Test_loader(Dataset):\n",
    "    def __init__(self):\n",
    "        self.X = Y\n",
    "        self.Y = torch.tensor(y_test,dtype = torch.float32)\n",
    "        self.len = self.X.shape[0]\n",
    "    def __getitem__(self, index):\n",
    "        return self.X[index], self.Y[index]\n",
    "    def __len__(self):\n",
    "        return self.len"
   ]
  },
  {
   "cell_type": "code",
   "execution_count": 98,
   "id": "548bfa58",
   "metadata": {},
   "outputs": [],
   "source": [
    "train_data = Train_loader()\n",
    "test_data = Test_loader()"
   ]
  },
  {
   "cell_type": "code",
   "execution_count": 99,
   "id": "7c822481",
   "metadata": {},
   "outputs": [],
   "source": [
    "train_loader = DataLoader(dataset = train_data, batch_size= 106)\n",
    "test_loader = DataLoader(dataset = test_data, batch_size= 106)"
   ]
  },
  {
   "cell_type": "markdown",
   "id": "28f9e8ed",
   "metadata": {},
   "source": [
    "In this part I created the train and test loaders, I decided on a batch size of 106 after trying out different batch sizes. "
   ]
  },
  {
   "cell_type": "markdown",
   "id": "95a40981",
   "metadata": {},
   "source": [
    "### Building the classifier"
   ]
  },
  {
   "cell_type": "code",
   "execution_count": 100,
   "id": "55854554",
   "metadata": {},
   "outputs": [],
   "source": [
    "class Classifier(nn.Module):\n",
    "    def __init__(self):\n",
    "        super().__init__()\n",
    "        self.fc1 = nn.Linear(10370, 670)\n",
    "        self.fc2 = nn.Linear(670, 1)\n",
    "        \n",
    "        self.dropout = nn.Dropout(p= 0.5)\n",
    "        self.batchn1 = nn.BatchNorm1d(670)\n",
    "    \n",
    "    def forward(self, x):\n",
    "        \n",
    "        \n",
    "        x = self.dropout(F.leaky_relu(self.batchn1(self.fc1(x))))\n",
    "        \n",
    "        x = F.sigmoid(self.fc2(x))\n",
    "        \n",
    "        return x"
   ]
  },
  {
   "cell_type": "code",
   "execution_count": 101,
   "id": "f3bc9904",
   "metadata": {},
   "outputs": [],
   "source": [
    "classifier = Classifier()\n",
    "criterion = nn.BCELoss()\n",
    "optimizer = optim.Adam(classifier.parameters(), lr= 0.0005)"
   ]
  },
  {
   "cell_type": "markdown",
   "id": "6718e5d6",
   "metadata": {},
   "source": [
    "In this part I build a simple model with only two layers (input, output). I used one node only for the output because it's binary classification with a sigmoid as activation. I also used a dropout of 0.5 and normalization to try and reduce overfitting. The error function I used is Binary Cross Entropy and the Adam optimizer with a very small learning rate."
   ]
  },
  {
   "cell_type": "markdown",
   "id": "4cf32230",
   "metadata": {},
   "source": [
    "### Training and inference"
   ]
  },
  {
   "cell_type": "code",
   "execution_count": 102,
   "id": "e72aba06",
   "metadata": {},
   "outputs": [
    {
     "name": "stdout",
     "output_type": "stream",
     "text": [
      "Epoch 1 Accuracy 82.6\n",
      "Epoch 2 Accuracy 83.8\n",
      "Epoch 3 Accuracy 83.9\n",
      "Epoch 4 Accuracy 84.1\n",
      "Epoch 5 Accuracy 84.3\n",
      "Epoch 6 Accuracy 84.0\n",
      "Epoch 7 Accuracy 84.3\n",
      "Epoch 8 Accuracy 84.4\n",
      "Epoch 9 Accuracy 84.2\n",
      "Epoch 10 Accuracy 84.2\n",
      "Epoch 11 Accuracy 84.0\n",
      "Epoch 12 Accuracy 83.6\n",
      "Epoch 13 Accuracy 83.6\n",
      "Epoch 14 Accuracy 83.5\n",
      "Epoch 15 Accuracy 83.5\n",
      "Epoch 16 Accuracy 83.5\n",
      "Epoch 17 Accuracy 83.4\n",
      "Epoch 18 Accuracy 83.4\n",
      "Epoch 19 Accuracy 83.4\n",
      "Epoch 20 Accuracy 83.5\n"
     ]
    }
   ],
   "source": [
    "epochs = 20\n",
    "train_loss, test_loss = [], []\n",
    "train_accuracy, test_accuracy = [],[]\n",
    "for epoch in range(epochs):\n",
    "    t_loss = 0\n",
    "    train_acc = 0\n",
    "    for sentence, label in train_loader:\n",
    "        optimizer.zero_grad()\n",
    "        logits = classifier(sentence)\n",
    "        label = label.unsqueeze(1)\n",
    "        loss = criterion(logits, label)\n",
    "        t_loss += loss.item()\n",
    "        equals = torch.round(logits) == label\n",
    "        acc = equals.sum().item()\n",
    "        train_acc += acc\n",
    "        loss.backward()\n",
    "        optimizer.step()\n",
    "    \n",
    "    else:\n",
    "        accuracy = 0\n",
    "        v_loss = 0\n",
    "        with torch.no_grad():\n",
    "            classifier.eval()\n",
    "            for sentence, label in test_loader:\n",
    "                logits = classifier(sentence)\n",
    "                label = label.unsqueeze(1)\n",
    "                loss = criterion(logits, label)\n",
    "                v_loss += loss.item()\n",
    "                equals = torch.round(logits) == label\n",
    "                acc = equals.sum().item()\n",
    "                accuracy += acc\n",
    "        \n",
    "        train_loss.append(t_loss/len(train_loader.dataset))\n",
    "        test_loss.append(v_loss/len(test_loader.dataset))\n",
    "        train_accuracy.append(train_acc /len(train_loader))\n",
    "        test_accuracy.append(accuracy/len(test_loader))\n",
    "        classifier.train()\n",
    "        \n",
    "        print(\"Epoch\", epoch+1, \"Accuracy\", accuracy/len(test_loader))"
   ]
  },
  {
   "cell_type": "code",
   "execution_count": 103,
   "id": "617f61a9",
   "metadata": {},
   "outputs": [
    {
     "data": {
      "text/plain": [
       "<matplotlib.legend.Legend at 0x1f5dfa06a40>"
      ]
     },
     "execution_count": 103,
     "metadata": {},
     "output_type": "execute_result"
    },
    {
     "data": {
      "image/png": "[encoded data removed]",
      "text/plain": [
       "<Figure size 640x480 with 1 Axes>"
      ]
     },
     "metadata": {},
     "output_type": "display_data"
    }
   ],
   "source": [
    "plt.plot(train_loss, label=\"training loss\")\n",
    "plt.plot(test_loss, label=\"testing loss\")\n",
    "plt.legend()"
   ]
  },
  {
   "cell_type": "code",
   "execution_count": 104,
   "id": "55d1896e",
   "metadata": {},
   "outputs": [
    {
     "data": {
      "text/plain": [
       "<matplotlib.legend.Legend at 0x1f5fae92a70>"
      ]
     },
     "execution_count": 104,
     "metadata": {},
     "output_type": "execute_result"
    },
    {
     "data": {
      "image/png": "[encoded data removed]",
      "text/plain": [
       "<Figure size 640x480 with 1 Axes>"
      ]
     },
     "metadata": {},
     "output_type": "display_data"
    }
   ],
   "source": [
    "plt.plot(train_accuracy, label=\"training accuracy\")\n",
    "plt.plot(test_accuracy, label=\"testing accuracy\")\n",
    "plt.legend()"
   ]
  },
  {
   "cell_type": "markdown",
   "id": "083a7ade",
   "metadata": {},
   "source": [
    "In the above I did the training of the network through 20 epochs, in each iteration of training I tested the model on a batch of the testing set and kept track of both the accuray and loss. From the plots I can see that my model overfits seen as its testing loss is much higher than training loss and test accuracy if much lower than training accuracy. I can still rely on the model to make accurate predictions during the validation process."
   ]
  },
  {
   "cell_type": "markdown",
   "id": "d987b46c",
   "metadata": {},
   "source": [
    "### Trying out the classifier"
   ]
  },
  {
   "cell_type": "code",
   "execution_count": 106,
   "id": "02724b0f",
   "metadata": {},
   "outputs": [
    {
     "name": "stdout",
     "output_type": "stream",
     "text": [
      "sentence:  \" black bottle &amp; a bad bitch \"\n",
      "Actual label tensor(1.)\n",
      "Model's probabilities:  tensor([[1.0000]])\n"
     ]
    }
   ],
   "source": [
    "classifier.eval()\n",
    "sentence = df[\"tweet\"][19]\n",
    "print(\"sentence: \",sentence)\n",
    "sentence, label = next(iter(train_loader))\n",
    "s = sentence[19]\n",
    "s = s.view(1, s.shape[0])\n",
    "with torch.no_grad():\n",
    "    output = classifier(s)\n",
    "\n",
    "print(\"Actual label\", label[19])\n",
    "print(\"Model's probabilities: \", output)"
   ]
  },
  {
   "cell_type": "code",
   "execution_count": 111,
   "id": "10e99c4b",
   "metadata": {},
   "outputs": [
    {
     "name": "stdout",
     "output_type": "stream",
     "text": [
      "sentence:  \" bitch who do you love \"\n",
      "Actual label tensor(0.)\n",
      "Model's probabilities:  tensor([[0.0223]])\n"
     ]
    }
   ],
   "source": [
    "classifier.eval()\n",
    "sentence = df[\"tweet\"][17]\n",
    "print(\"sentence: \",sentence)\n",
    "sentence, label = next(iter(train_loader))\n",
    "s = sentence[17]\n",
    "s = s.view(1, s.shape[0])\n",
    "with torch.no_grad():\n",
    "    output = classifier(s)\n",
    "\n",
    "print(\"Actual label\", label[17])\n",
    "print(\"Model's probabilities: \", output)"
   ]
  },
  {
   "cell_type": "code",
   "execution_count": 108,
   "id": "83ce2b76",
   "metadata": {},
   "outputs": [
    {
     "name": "stdout",
     "output_type": "stream",
     "text": [
      "sentence:  \" if you're toes ain't done you pussy stinks \"\n",
      "Actual label tensor(1.)\n",
      "Model's probabilities:  tensor([[1.]])\n"
     ]
    }
   ],
   "source": [
    "classifier.eval()\n",
    "sentence = df[\"tweet\"][33]\n",
    "print(\"sentence: \",sentence)\n",
    "sentence, label = next(iter(train_loader))\n",
    "s = sentence[33]\n",
    "s = s.view(1, s.shape[0])\n",
    "with torch.no_grad():\n",
    "    output = classifier(s)\n",
    "\n",
    "print(\"Actual label\", label[33])\n",
    "print(\"Model's probabilities: \", output)"
   ]
  },
  {
   "cell_type": "markdown",
   "id": "d9e6a9df",
   "metadata": {},
   "source": [
    "In the above I tested my model on three examples, I can clearly see that it has got the three examples correct seen as the probability of the output is close to (if not the same as) the actual label."
   ]
  },
  {
   "cell_type": "markdown",
   "id": "49ab10bb",
   "metadata": {},
   "source": [
    "### Conclusion\n",
    "\n",
    "In this notebook I had the chance to experiment with a simple neural net for binary classification. My raw data was statments labeled as offensive language or not. After the initial processing of the data I applied bag of words which I fed to a 2 layer classifier that was able to predict the result with an accuracy up to 84%, although the model overfitted quite a bit."
   ]
  }
 ],
 "metadata": {
  "kernelspec": {
   "display_name": "Python 3 (ipykernel)",
   "language": "python",
   "name": "python3"
  },
  "language_info": {
   "codemirror_mode": {
    "name": "ipython",
    "version": 3
   },
   "file_extension": ".py",
   "mimetype": "text/x-python",
   "name": "python",
   "nbconvert_exporter": "python",
   "pygments_lexer": "ipython3",
   "version": "3.10.9"
  }
 },
 "nbformat": 4,
 "nbformat_minor": 5
}
